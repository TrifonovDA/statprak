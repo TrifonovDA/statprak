{
 "cells": [
  {
   "cell_type": "code",
   "execution_count": 193,
   "metadata": {},
   "outputs": [
    {
     "name": "stdout",
     "output_type": "stream",
     "text": [
      "[[0.51172793 0.28630201 0.11967327]\n",
      " [0.95734956 0.4057977  0.2808503 ]\n",
      " [0.07398465 0.40928705 0.25197377]\n",
      " [0.62729186 0.40555538 0.44699958]\n",
      " [0.23670118 0.89965481 0.78871911]\n",
      " [0.42483104 0.751308   0.66082593]\n",
      " [0.03065707 0.757097   0.44067905]\n",
      " [0.10140213 0.42154382 0.9656327 ]\n",
      " [0.23378456 0.78903766 0.45393479]\n",
      " [0.18493887 0.45268487 0.27439781]]\n",
      "0.5117279345173057\n",
      "0.40579770318144837\n",
      "0.4092870520235703\n",
      "0.4469995848898678\n",
      "0.23670118160113762\n",
      "0.4248310441143367\n",
      "0.4406790469752916\n",
      "0.42154382477426566\n",
      "0.4539347920242651\n",
      "0.45268487308959393\n"
     ]
    }
   ],
   "source": [
    "import numpy as np\n",
    "import numpy.random as rand\n",
    "\n",
    "a = rand.sample((10,3))\n",
    "print(a)\n",
    "index = (np.abs(a - 0.5)).argmin(axis = 1)\n",
    "i = 0\n",
    "while i < 10:\n",
    "    print(a[i][index[i]])\n",
    "    i += 1"
   ]
  },
  {
   "cell_type": "code",
   "execution_count": 194,
   "metadata": {},
   "outputs": [
    {
     "name": "stdout",
     "output_type": "stream",
     "text": [
      "[[0.48790887 3.37056317 0.98514062 3.90432219 3.92301838 4.07878461]\n",
      " [4.68102514 6.41026774 1.50219925 5.19249179 4.81150045 8.82936573]\n",
      " [7.49743927 6.93804605 4.83608304 3.01229252 1.13130703 2.06001006]\n",
      " [7.3464844  8.85158736 0.82901468 9.3839905  2.78322516 7.53278356]\n",
      " [1.56261523 7.22178903 9.46495379 5.21637018 2.13295578 6.30398551]\n",
      " [8.19511887 2.04575456 6.45120165 9.44183331 7.35105317 5.05287884]]\n",
      "\n",
      " 34.32964430638888\n",
      "\n",
      " 15.361984601597607\n",
      "\n",
      " 30.729465503903363\n",
      "\n",
      " 12.192403445769823\n",
      "\n",
      " 28.199833212799533\n",
      "\n",
      " 18.70759814218283\n"
     ]
    }
   ],
   "source": [
    "import numpy as np\n",
    "\n",
    "a = np.random.random((6,6))*10\n",
    "print(a)\n",
    "index = a.argmin(axis = 0)\n",
    "i = 0\n",
    "while i < 6:\n",
    "    print(\"\\n\",np.sum(a[i])/a[index[i]][i])\n",
    "    i += 1"
   ]
  },
  {
   "cell_type": "code",
   "execution_count": 195,
   "metadata": {},
   "outputs": [
    {
     "name": "stdout",
     "output_type": "stream",
     "text": [
      "5\n"
     ]
    }
   ],
   "source": [
    "import numpy as np\n",
    "\n",
    "x = np.array([6, 2, 0, 3, 0, 0, 5, 7, 0])\n",
    "len = x.shape[0]\n",
    "x = x.tolist()\n",
    "i = 0\n",
    "max = 0\n",
    "while i < len:\n",
    "    try:\n",
    "        i = x.index(0, i, len) + 1\n",
    "    except:\n",
    "        break\n",
    "    if i == len :\n",
    "        break\n",
    "    if max < x[i]: \n",
    "        max = x[i]\n",
    "print(max)"
   ]
  },
  {
   "cell_type": "code",
   "execution_count": 196,
   "metadata": {},
   "outputs": [
    {
     "name": "stdout",
     "output_type": "stream",
     "text": [
      "[1. 1. 1. 1. 1. 1. 1. 1. 1. 1.]\n",
      "[2. 2. 2. 2. 1. 4. 1. 1. 2. 1.]\n"
     ]
    }
   ],
   "source": [
    "import numpy as np\n",
    "\n",
    "x = np.ones(10)\n",
    "print(x)\n",
    "index = np.array([0, 1, 2, 3, 5, 5, 5, 8])\n",
    "j = 0\n",
    "while j < 8:\n",
    "    x[index[j]] += 1\n",
    "    j += 1\n",
    "print(x)"
   ]
  },
  {
   "cell_type": "code",
   "execution_count": 197,
   "metadata": {},
   "outputs": [
    {
     "name": "stdout",
     "output_type": "stream",
     "text": [
      "{0: [0], 1: [1, 10], 2: [2, 11, 20], 3: [3, 12, 21, 30], 4: [4, 13, 22, 31, 40], 5: [5, 14, 23, 32, 41, 50], 6: [6, 15, 24, 33, 42, 51, 60], 7: [7, 16, 25, 34, 43, 52, 61, 70], 8: [8, 17, 26, 35, 44, 53, 62, 71, 80], 9: [9, 18, 27, 36, 45, 54, 63, 72, 81, 90], 10: [19, 28, 37, 46, 55, 64, 73, 82, 91], 11: [29, 38, 47, 56, 65, 74, 83, 92], 12: [39, 48, 57, 66, 75, 84, 93], 13: [49, 58, 67, 76, 85, 94], 14: [59, 68, 77, 86, 95], 15: [69, 78, 87, 96], 16: [79, 88, 97], 17: [89, 98], 18: [99]}\n"
     ]
    }
   ],
   "source": [
    "import numpy as np\n",
    "\n",
    "N = 10\n",
    "a = np.arange(N * N).reshape(N, N)\n",
    "d = {}\n",
    "i = 0\n",
    "while i < 2*N - 1:\n",
    "    d[i] = []\n",
    "    i += 1\n",
    "i = 0\n",
    "while i < N:\n",
    "    j = 0\n",
    "    while j < N:\n",
    "        d.get(i + j).append(a[i][j])\n",
    "        j += 1\n",
    "    i += 1\n",
    "print(d)"
   ]
  }
 ],
 "metadata": {
  "kernelspec": {
   "display_name": "Python 3",
   "language": "python",
   "name": "python3"
  },
  "language_info": {
   "codemirror_mode": {
    "name": "ipython",
    "version": 3
   },
   "file_extension": ".py",
   "mimetype": "text/x-python",
   "name": "python",
   "nbconvert_exporter": "python",
   "pygments_lexer": "ipython3",
   "version": "3.7.1"
  }
 },
 "nbformat": 4,
 "nbformat_minor": 2
}
